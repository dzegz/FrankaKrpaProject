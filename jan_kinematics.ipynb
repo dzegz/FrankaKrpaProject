{
 "cells": [
  {
   "cell_type": "code",
   "execution_count": 6,
   "metadata": {},
   "outputs": [],
   "source": [
    "import sys\n",
    "import numpy as np\n",
    "sys.path.insert(1, '/home/peter/robotblockset_python')\n",
    "from robotblockset_python.panda_ros import panda_ros\n",
    "from robotblockset_python.transformations import map_pose"
   ]
  },
  {
   "cell_type": "code",
   "execution_count": 3,
   "metadata": {},
   "outputs": [
    {
     "name": "stdout",
     "output_type": "stream",
     "text": [
      "pingvin: Load cartesian_impedance_controller: Successful: False\n",
      "pingvin: Load joint_impedance_controller: Successful: False\n",
      "pingvin: Load position_joint_trajectory_controller: Successful: False\n",
      "pingvin: Load joint_dmp_controller: Successful: False\n",
      "pingvin: Switch to []. Stop ['cartesian_impedance_controller', 'joint_impedance_controller', 'position_joint_trajectory_controller', 'joint_dmp_controller']. Successful: True\n",
      "pingvin: Switch to ['position_joint_trajectory_controller']. Stop ['cartesian_impedance_controller', 'joint_impedance_controller', 'joint_dmp_controller']. Successful: True\n",
      "pingvin: Target reset msg not sent - JointPositionTrajectory strategy does not support it\n"
     ]
    }
   ],
   "source": [
    "p1 = panda_ros('pingvin', init_node=True, init_frankadesk_gripper_TCP=True, start_controller='position_joint_trajectory_controller')"
   ]
  },
  {
   "cell_type": "code",
   "execution_count": 4,
   "metadata": {},
   "outputs": [
    {
     "name": "stdout",
     "output_type": "stream",
     "text": [
      "[4.94394403e-01 3.56080019e-05 6.52003918e-01]\n"
     ]
    }
   ],
   "source": [
    "tool_pos = p1.GetPos()\n",
    "print(tool_pos)"
   ]
  },
  {
   "cell_type": "code",
   "execution_count": 7,
   "metadata": {},
   "outputs": [
    {
     "name": "stdout",
     "output_type": "stream",
     "text": [
      "pingvin: Target reset msg not sent - JointPositionTrajectory strategy does not support it\n",
      "pingvin: CMove started\n",
      "pingvin: x0: [ 4.94394944e-01  3.71864819e-05  6.52002509e-01  7.97619174e-05\n",
      " -9.95050199e-01 -1.60933005e-04 -9.93733819e-02]\n",
      "pingvin: rx: [ 5.00000000e-01  1.00000000e-01  6.50000000e-01  7.97619174e-05\n",
      " -9.95050199e-01 -1.60933005e-04 -9.93733819e-02]\n",
      "pingvin: CMove finished\n"
     ]
    },
    {
     "data": {
      "text/plain": [
       "0"
      ]
     },
     "execution_count": 7,
     "metadata": {},
     "output_type": "execute_result"
    }
   ],
   "source": [
    "test_goal = np.array([0.50,0.10,0.65])\n",
    "p1.CMove(test_goal, 10) "
   ]
  },
  {
   "cell_type": "code",
   "execution_count": null,
   "metadata": {},
   "outputs": [],
   "source": []
  }
 ],
 "metadata": {
  "kernelspec": {
   "display_name": "aldin-cloth-competition",
   "language": "python",
   "name": "python3"
  },
  "language_info": {
   "codemirror_mode": {
    "name": "ipython",
    "version": 3
   },
   "file_extension": ".py",
   "mimetype": "text/x-python",
   "name": "python",
   "nbconvert_exporter": "python",
   "pygments_lexer": "ipython3",
   "version": "3.10.14"
  }
 },
 "nbformat": 4,
 "nbformat_minor": 2
}
